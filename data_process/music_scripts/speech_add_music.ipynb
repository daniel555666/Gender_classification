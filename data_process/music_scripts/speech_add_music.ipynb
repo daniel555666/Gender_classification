{
 "cells": [
  {
   "cell_type": "code",
   "execution_count": null,
   "metadata": {},
   "outputs": [],
   "source": [
    "import numpy as np\n",
    "import pandas as pd\n",
    "import matplotlib.pyplot as plt \n",
    "import seaborn as sns\n",
    "import os\n",
    "import random\n",
    "import cv2\n",
    "from sklearn.model_selection import train_test_split\n",
    "import tensorflow as tf\n",
    "from tensorflow import keras\n",
    "from keras import layers\n",
    "import librosa\n",
    "\n",
    "\n",
    "np.random.seed(0)\n",
    "\n",
    "import os\n",
    "\n",
    "! pip install ffmpeg"
   ]
  },
  {
   "cell_type": "code",
   "execution_count": null,
   "metadata": {},
   "outputs": [],
   "source": [
    "# Load data into dataframe\n",
    "from pydub import AudioSegment\n",
    "training_data_folder = 'dataset'\n",
    "data = []\n",
    "\n",
    "\n",
    "duration = 3000\n",
    "for folder in sorted(os.listdir(training_data_folder)):\n",
    "    if (folder == 'del' or folder == 'nothing' or folder == 'space'):\n",
    "      continue\n",
    "    sub_folder = os.path.join(training_data_folder,folder)\n",
    "    files = [{'label':folder,'path':os.path.join(sub_folder, f)} for f in os.listdir(sub_folder) if os.path.isfile(os.path.join(sub_folder, f))]\n",
    "    data += files\n",
    "\n",
    "df = pd.DataFrame(data)\n"
   ]
  },
  {
   "cell_type": "code",
   "execution_count": null,
   "metadata": {},
   "outputs": [],
   "source": [
    "df"
   ]
  },
  {
   "cell_type": "code",
   "execution_count": null,
   "metadata": {},
   "outputs": [],
   "source": [
    "import random\n",
    "from pydub import AudioSegment\n",
    "\n",
    "# List of music file names\n",
    "music_files = ['music1.mp3', 'music2.mp3', 'music3.mp3', 'music4.mp3', 'music5.mp3']\n",
    "\n",
    "# Calculate the number of files to select (20%)\n",
    "num_files = len(df['path'])\n",
    "num_music_files = int(num_files * 0.2)\n",
    "\n",
    "# Randomly select the files\n",
    "selected_files = random.sample(list(df['path']), num_music_files)\n",
    "\n",
    "# Loop through the selected files and combine with the music\n",
    "for file in selected_files:\n",
    "    # Load the audio file\n",
    "    sound = AudioSegment.from_file(file, format=\"mp3\")\n",
    "    \n",
    "    # Randomly select a music file\n",
    "    random_music_file = random.choice(music_files)\n",
    "    \n",
    "    # Load the music file\n",
    "    music_file_path = 'Wav-music-file-mp3/' + random_music_file\n",
    "    music = AudioSegment.from_wav(music_file_path)\n",
    "    \n",
    "    # Combine the audio file with the music\n",
    "    combined = sound.overlay(music)\n",
    "    \n",
    "    # Export the combined audio file to the same location\n",
    "    combined.export(file, format=\"mp3\")\n"
   ]
  }
 ],
 "metadata": {
  "kernelspec": {
   "display_name": "Python 3.9.13 64-bit (microsoft store)",
   "language": "python",
   "name": "python3"
  },
  "language_info": {
   "codemirror_mode": {
    "name": "ipython",
    "version": 3
   },
   "file_extension": ".py",
   "mimetype": "text/x-python",
   "name": "python",
   "nbconvert_exporter": "python",
   "pygments_lexer": "ipython3",
   "version": "3.10.0"
  },
  "orig_nbformat": 4,
  "vscode": {
   "interpreter": {
    "hash": "33c99ce92ae57a37c90157b7c35934b668ba43f0729fdf7df53b30c6721ba8f2"
   }
  }
 },
 "nbformat": 4,
 "nbformat_minor": 2
}
